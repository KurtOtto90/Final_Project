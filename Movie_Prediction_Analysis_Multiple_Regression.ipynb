{
 "cells": [
  {
   "cell_type": "code",
   "execution_count": 1,
   "id": "e0dd0f11",
   "metadata": {},
   "outputs": [],
   "source": [
    "import pandas as pd\n",
    "import matplotlib.pyplot as plt\n",
    "import numpy as np\n",
    "from sklearn.linear_model import LinearRegression\n",
    "from sklearn.model_selection import train_test_split\n",
    "import seaborn as sns"
   ]
  },
  {
   "cell_type": "code",
   "execution_count": 2,
   "id": "0eab5c13",
   "metadata": {},
   "outputs": [],
   "source": [
    "df = pd.read_csv('movie_data.csv')"
   ]
  },
  {
   "cell_type": "code",
   "execution_count": 3,
   "id": "3e2f7720",
   "metadata": {},
   "outputs": [
    {
     "data": {
      "text/html": [
       "<div>\n",
       "<style scoped>\n",
       "    .dataframe tbody tr th:only-of-type {\n",
       "        vertical-align: middle;\n",
       "    }\n",
       "\n",
       "    .dataframe tbody tr th {\n",
       "        vertical-align: top;\n",
       "    }\n",
       "\n",
       "    .dataframe thead th {\n",
       "        text-align: right;\n",
       "    }\n",
       "</style>\n",
       "<table border=\"1\" class=\"dataframe\">\n",
       "  <thead>\n",
       "    <tr style=\"text-align: right;\">\n",
       "      <th></th>\n",
       "      <th>id</th>\n",
       "      <th>title</th>\n",
       "      <th>budget</th>\n",
       "      <th>genre</th>\n",
       "      <th>popularity</th>\n",
       "      <th>release_date</th>\n",
       "      <th>revenue</th>\n",
       "      <th>runtime</th>\n",
       "      <th>vote_average</th>\n",
       "    </tr>\n",
       "  </thead>\n",
       "  <tbody>\n",
       "    <tr>\n",
       "      <th>0</th>\n",
       "      <td>100</td>\n",
       "      <td>Lock, Stock and Two Smoking Barrels</td>\n",
       "      <td>1350000</td>\n",
       "      <td>Crime</td>\n",
       "      <td>4.60786</td>\n",
       "      <td>1998-03-05</td>\n",
       "      <td>3897569.0</td>\n",
       "      <td>105.0</td>\n",
       "      <td>7.5</td>\n",
       "    </tr>\n",
       "    <tr>\n",
       "      <th>1</th>\n",
       "      <td>100</td>\n",
       "      <td>Lock, Stock and Two Smoking Barrels</td>\n",
       "      <td>1350000</td>\n",
       "      <td>Comedy</td>\n",
       "      <td>4.60786</td>\n",
       "      <td>1998-03-05</td>\n",
       "      <td>3897569.0</td>\n",
       "      <td>105.0</td>\n",
       "      <td>7.5</td>\n",
       "    </tr>\n",
       "    <tr>\n",
       "      <th>2</th>\n",
       "      <td>10003</td>\n",
       "      <td>The Saint</td>\n",
       "      <td>68000000</td>\n",
       "      <td>Action</td>\n",
       "      <td>10.97633</td>\n",
       "      <td>1997-04-03</td>\n",
       "      <td>118063304.0</td>\n",
       "      <td>116.0</td>\n",
       "      <td>5.9</td>\n",
       "    </tr>\n",
       "    <tr>\n",
       "      <th>3</th>\n",
       "      <td>10003</td>\n",
       "      <td>The Saint</td>\n",
       "      <td>68000000</td>\n",
       "      <td>Adventure</td>\n",
       "      <td>10.97633</td>\n",
       "      <td>1997-04-03</td>\n",
       "      <td>118063304.0</td>\n",
       "      <td>116.0</td>\n",
       "      <td>5.9</td>\n",
       "    </tr>\n",
       "    <tr>\n",
       "      <th>4</th>\n",
       "      <td>10003</td>\n",
       "      <td>The Saint</td>\n",
       "      <td>68000000</td>\n",
       "      <td>Science Fiction</td>\n",
       "      <td>10.97633</td>\n",
       "      <td>1997-04-03</td>\n",
       "      <td>118063304.0</td>\n",
       "      <td>116.0</td>\n",
       "      <td>5.9</td>\n",
       "    </tr>\n",
       "  </tbody>\n",
       "</table>\n",
       "</div>"
      ],
      "text/plain": [
       "      id                                title    budget            genre  \\\n",
       "0    100  Lock, Stock and Two Smoking Barrels   1350000            Crime   \n",
       "1    100  Lock, Stock and Two Smoking Barrels   1350000           Comedy   \n",
       "2  10003                            The Saint  68000000           Action   \n",
       "3  10003                            The Saint  68000000        Adventure   \n",
       "4  10003                            The Saint  68000000  Science Fiction   \n",
       "\n",
       "   popularity release_date      revenue  runtime  vote_average  \n",
       "0     4.60786   1998-03-05    3897569.0    105.0           7.5  \n",
       "1     4.60786   1998-03-05    3897569.0    105.0           7.5  \n",
       "2    10.97633   1997-04-03  118063304.0    116.0           5.9  \n",
       "3    10.97633   1997-04-03  118063304.0    116.0           5.9  \n",
       "4    10.97633   1997-04-03  118063304.0    116.0           5.9  "
      ]
     },
     "execution_count": 3,
     "metadata": {},
     "output_type": "execute_result"
    }
   ],
   "source": [
    "df.head()"
   ]
  },
  {
   "cell_type": "code",
   "execution_count": 4,
   "id": "57a350f9",
   "metadata": {
    "scrolled": true
   },
   "outputs": [
    {
     "data": {
      "text/plain": [
       "Index(['id', 'title', 'budget', 'genre', 'popularity', 'release_date',\n",
       "       'revenue', 'runtime', 'vote_average'],\n",
       "      dtype='object')"
      ]
     },
     "execution_count": 4,
     "metadata": {},
     "output_type": "execute_result"
    }
   ],
   "source": [
    "df.columns"
   ]
  },
  {
   "cell_type": "code",
   "execution_count": 5,
   "id": "175d9e49",
   "metadata": {},
   "outputs": [],
   "source": [
    "X = df[[\"revenue\"]].to_numpy()"
   ]
  },
  {
   "cell_type": "code",
   "execution_count": 6,
   "id": "e4bf013c",
   "metadata": {},
   "outputs": [
    {
     "data": {
      "text/html": [
       "<div>\n",
       "<style scoped>\n",
       "    .dataframe tbody tr th:only-of-type {\n",
       "        vertical-align: middle;\n",
       "    }\n",
       "\n",
       "    .dataframe tbody tr th {\n",
       "        vertical-align: top;\n",
       "    }\n",
       "\n",
       "    .dataframe thead th {\n",
       "        text-align: right;\n",
       "    }\n",
       "</style>\n",
       "<table border=\"1\" class=\"dataframe\">\n",
       "  <thead>\n",
       "    <tr style=\"text-align: right;\">\n",
       "      <th></th>\n",
       "      <th>id</th>\n",
       "      <th>budget</th>\n",
       "      <th>popularity</th>\n",
       "      <th>revenue</th>\n",
       "      <th>runtime</th>\n",
       "      <th>vote_average</th>\n",
       "    </tr>\n",
       "  </thead>\n",
       "  <tbody>\n",
       "    <tr>\n",
       "      <th>id</th>\n",
       "      <td>1.000000</td>\n",
       "      <td>-0.059349</td>\n",
       "      <td>0.056268</td>\n",
       "      <td>-0.023054</td>\n",
       "      <td>-0.033592</td>\n",
       "      <td>-0.085490</td>\n",
       "    </tr>\n",
       "    <tr>\n",
       "      <th>budget</th>\n",
       "      <td>-0.059349</td>\n",
       "      <td>1.000000</td>\n",
       "      <td>0.355149</td>\n",
       "      <td>0.742081</td>\n",
       "      <td>0.209087</td>\n",
       "      <td>0.094859</td>\n",
       "    </tr>\n",
       "    <tr>\n",
       "      <th>popularity</th>\n",
       "      <td>0.056268</td>\n",
       "      <td>0.355149</td>\n",
       "      <td>1.000000</td>\n",
       "      <td>0.477056</td>\n",
       "      <td>0.099458</td>\n",
       "      <td>0.179561</td>\n",
       "    </tr>\n",
       "    <tr>\n",
       "      <th>revenue</th>\n",
       "      <td>-0.023054</td>\n",
       "      <td>0.742081</td>\n",
       "      <td>0.477056</td>\n",
       "      <td>1.000000</td>\n",
       "      <td>0.159796</td>\n",
       "      <td>0.190755</td>\n",
       "    </tr>\n",
       "    <tr>\n",
       "      <th>runtime</th>\n",
       "      <td>-0.033592</td>\n",
       "      <td>0.209087</td>\n",
       "      <td>0.099458</td>\n",
       "      <td>0.159796</td>\n",
       "      <td>1.000000</td>\n",
       "      <td>0.268294</td>\n",
       "    </tr>\n",
       "  </tbody>\n",
       "</table>\n",
       "</div>"
      ],
      "text/plain": [
       "                  id    budget  popularity   revenue   runtime  vote_average\n",
       "id          1.000000 -0.059349    0.056268 -0.023054 -0.033592     -0.085490\n",
       "budget     -0.059349  1.000000    0.355149  0.742081  0.209087      0.094859\n",
       "popularity  0.056268  0.355149    1.000000  0.477056  0.099458      0.179561\n",
       "revenue    -0.023054  0.742081    0.477056  1.000000  0.159796      0.190755\n",
       "runtime    -0.033592  0.209087    0.099458  0.159796  1.000000      0.268294"
      ]
     },
     "execution_count": 6,
     "metadata": {},
     "output_type": "execute_result"
    }
   ],
   "source": [
    "# view the correlation coefficient (R) for each pair of variables\n",
    "# R is the square root of R-squared\n",
    "# A correlation matrix helps select features that are highly predictive of our dependent variable\n",
    "# It also helps us identify collinearity between independent variables\n",
    "corr = df.corr()\n",
    "corr.head()"
   ]
  },
  {
   "cell_type": "code",
   "execution_count": 7,
   "id": "8b997830",
   "metadata": {},
   "outputs": [
    {
     "data": {
      "text/plain": [
       "<AxesSubplot:>"
      ]
     },
     "execution_count": 7,
     "metadata": {},
     "output_type": "execute_result"
    },
    {
     "data": {
      "image/png": "[encoded data removed]",
      "text/plain": [
       "<Figure size 640x480 with 2 Axes>"
      ]
     },
     "metadata": {},
     "output_type": "display_data"
    }
   ],
   "source": [
    "sns.heatmap(corr)"
   ]
  },
  {
   "cell_type": "code",
   "execution_count": 8,
   "id": "cf5f777d",
   "metadata": {},
   "outputs": [],
   "source": [
    "mask = np.triu(np.ones_like(corr, dtype=bool))"
   ]
  },
  {
   "cell_type": "code",
   "execution_count": 9,
   "id": "48298cc7",
   "metadata": {},
   "outputs": [
    {
     "data": {
      "text/plain": [
       "<AxesSubplot:>"
      ]
     },
     "execution_count": 9,
     "metadata": {},
     "output_type": "execute_result"
    },
    {
     "data": {
      "image/png": "[encoded data removed]",
      "text/plain": [
       "<Figure size 1000x600 with 2 Axes>"
      ]
     },
     "metadata": {},
     "output_type": "display_data"
    }
   ],
   "source": [
    "sns.set(rc={'figure.figsize':(10,6)})\n",
    "sns.heatmap(corr, mask=mask)\n"
   ]
  },
  {
   "cell_type": "code",
   "execution_count": 10,
   "id": "67add2e3",
   "metadata": {},
   "outputs": [
    {
     "data": {
      "text/plain": [
       "id             -0.023054\n",
       "budget          0.742081\n",
       "popularity      0.477056\n",
       "revenue         1.000000\n",
       "runtime         0.159796\n",
       "vote_average    0.190755\n",
       "Name: revenue, dtype: float64"
      ]
     },
     "execution_count": 10,
     "metadata": {},
     "output_type": "execute_result"
    }
   ],
   "source": [
    "corr[\"revenue\"]"
   ]
  },
  {
   "cell_type": "code",
   "execution_count": 12,
   "id": "8f4fd894",
   "metadata": {},
   "outputs": [],
   "source": [
    "y = df[[\"budget\", \"popularity\", \"vote_average\"]]"
   ]
  },
  {
   "cell_type": "code",
   "execution_count": 13,
   "id": "ff97609c",
   "metadata": {},
   "outputs": [],
   "source": [
    "X_train, X_test, y_train, y_test = train_test_split(X, y, random_state=42)"
   ]
  },
  {
   "cell_type": "markdown",
   "id": "d72e126b",
   "metadata": {},
   "source": [
    "1. Preview data\n",
    "1. Select model\n",
    "1. Select features to include in model\n",
    "1. Split data into train and test sets\n",
    "1. Fit the model to the training set\n",
    "1. Create predictions for the test set\n",
    "1. Score the model based on the training and test sets"
   ]
  },
  {
   "cell_type": "code",
   "execution_count": 14,
   "id": "e15f1ca7",
   "metadata": {},
   "outputs": [],
   "source": [
    "model = LinearRegression()"
   ]
  },
  {
   "cell_type": "code",
   "execution_count": 15,
   "id": "93404c51",
   "metadata": {},
   "outputs": [
    {
     "data": {
      "text/plain": [
       "LinearRegression()"
      ]
     },
     "execution_count": 15,
     "metadata": {},
     "output_type": "execute_result"
    }
   ],
   "source": [
    "model.fit(X_train, y_train)"
   ]
  },
  {
   "cell_type": "markdown",
   "id": "877cba66",
   "metadata": {},
   "source": [
    "y = m1x1 + m2x2 + m3x3 + b\n",
    "\n",
    "dependent variable = coefficient * independent variable + intercept"
   ]
  },
  {
   "cell_type": "code",
   "execution_count": 16,
   "id": "5ab4798e",
   "metadata": {},
   "outputs": [
    {
     "name": "stdout",
     "output_type": "stream",
     "text": [
      "[[1.79317389e-01]\n",
      " [4.17354469e-08]\n",
      " [1.40532781e-09]]\n"
     ]
    }
   ],
   "source": [
    "coef = model.coef_\n",
    "print(coef)"
   ]
  },
  {
   "cell_type": "code",
   "execution_count": 17,
   "id": "a66f97f4",
   "metadata": {},
   "outputs": [
    {
     "name": "stdout",
     "output_type": "stream",
     "text": [
      "[1.35979954e+07 5.36206394e+00 5.95928214e+00]\n"
     ]
    }
   ],
   "source": [
    "intercept = model.intercept_\n",
    "print(intercept)"
   ]
  },
  {
   "cell_type": "markdown",
   "id": "9e8f2434",
   "metadata": {},
   "source": [
    "Easier way to create the predicted data:"
   ]
  },
  {
   "cell_type": "code",
   "execution_count": 18,
   "id": "b951fb22",
   "metadata": {},
   "outputs": [
    {
     "data": {
      "text/plain": [
       "array([[1.35979954e+07, 5.36206394e+00, 5.95928214e+00],\n",
       "       [1.53194423e+07, 5.76272423e+00, 5.97277329e+00],\n",
       "       [2.36374956e+07, 7.69871980e+00, 6.03796268e+00],\n",
       "       ...,\n",
       "       [3.51475146e+07, 1.03776334e+01, 6.12816782e+00],\n",
       "       [1.35979954e+07, 5.36206394e+00, 5.95928214e+00],\n",
       "       [2.31875604e+07, 7.59399910e+00, 6.03443649e+00]])"
      ]
     },
     "execution_count": 18,
     "metadata": {},
     "output_type": "execute_result"
    }
   ],
   "source": [
    "pred_y = model.predict(X_train)\n",
    "pred_y"
   ]
  },
  {
   "cell_type": "code",
   "execution_count": 19,
   "id": "584dccf7",
   "metadata": {},
   "outputs": [],
   "source": [
    "y_test_pred = model.predict(X_test)"
   ]
  },
  {
   "cell_type": "code",
   "execution_count": 20,
   "id": "5d301fbe",
   "metadata": {},
   "outputs": [],
   "source": [
    "train_score = model.score(X_train, y_train)"
   ]
  },
  {
   "cell_type": "code",
   "execution_count": 21,
   "id": "52ec92a6",
   "metadata": {},
   "outputs": [],
   "source": [
    "test_score = model.score(X_test, y_test)"
   ]
  },
  {
   "cell_type": "code",
   "execution_count": 22,
   "id": "0b6e2e2c",
   "metadata": {},
   "outputs": [
    {
     "data": {
      "text/plain": [
       "0.27375416754471166"
      ]
     },
     "execution_count": 22,
     "metadata": {},
     "output_type": "execute_result"
    }
   ],
   "source": [
    "# R-squared value\n",
    "train_score"
   ]
  },
  {
   "cell_type": "code",
   "execution_count": 23,
   "id": "fd4fc194",
   "metadata": {},
   "outputs": [
    {
     "data": {
      "text/plain": [
       "0.26164651056741084"
      ]
     },
     "execution_count": 23,
     "metadata": {},
     "output_type": "execute_result"
    }
   ],
   "source": [
    "test_score"
   ]
  },
  {
   "cell_type": "code",
   "execution_count": 24,
   "id": "390b2cad",
   "metadata": {},
   "outputs": [],
   "source": [
    "from statsmodels.api import OLS"
   ]
  },
  {
   "cell_type": "code",
   "execution_count": 25,
   "id": "677c2545",
   "metadata": {},
   "outputs": [],
   "source": [
    "model2 = OLS(X_train, y_train)"
   ]
  },
  {
   "cell_type": "code",
   "execution_count": 26,
   "id": "5c5fea59",
   "metadata": {
    "scrolled": false
   },
   "outputs": [
    {
     "data": {
      "text/html": [
       "<table class=\"simpletable\">\n",
       "<caption>OLS Regression Results</caption>\n",
       "<tr>\n",
       "  <th>Dep. Variable:</th>            <td>y</td>        <th>  R-squared (uncentered):</th>       <td>   0.657</td>  \n",
       "</tr>\n",
       "<tr>\n",
       "  <th>Model:</th>                   <td>OLS</td>       <th>  Adj. R-squared (uncentered):</th>  <td>   0.657</td>  \n",
       "</tr>\n",
       "<tr>\n",
       "  <th>Method:</th>             <td>Least Squares</td>  <th>  F-statistic:       </th>           <td>1.049e+04</td> \n",
       "</tr>\n",
       "<tr>\n",
       "  <th>Date:</th>             <td>Mon, 24 Oct 2022</td> <th>  Prob (F-statistic):</th>            <td>  0.00</td>   \n",
       "</tr>\n",
       "<tr>\n",
       "  <th>Time:</th>                 <td>19:40:25</td>     <th>  Log-Likelihood:    </th>          <td>-3.2598e+05</td>\n",
       "</tr>\n",
       "<tr>\n",
       "  <th>No. Observations:</th>      <td> 16438</td>      <th>  AIC:               </th>           <td>6.520e+05</td> \n",
       "</tr>\n",
       "<tr>\n",
       "  <th>Df Residuals:</th>          <td> 16435</td>      <th>  BIC:               </th>           <td>6.520e+05</td> \n",
       "</tr>\n",
       "<tr>\n",
       "  <th>Df Model:</th>              <td>     3</td>      <th>                     </th>               <td> </td>     \n",
       "</tr>\n",
       "<tr>\n",
       "  <th>Covariance Type:</th>      <td>nonrobust</td>    <th>                     </th>               <td> </td>     \n",
       "</tr>\n",
       "</table>\n",
       "<table class=\"simpletable\">\n",
       "<tr>\n",
       "        <td></td>          <th>coef</th>     <th>std err</th>      <th>t</th>      <th>P>|t|</th>  <th>[0.025</th>    <th>0.975]</th>  \n",
       "</tr>\n",
       "<tr>\n",
       "  <th>budget</th>       <td>    2.6256</td> <td>    0.022</td> <td>  120.017</td> <td> 0.000</td> <td>    2.583</td> <td>    2.668</td>\n",
       "</tr>\n",
       "<tr>\n",
       "  <th>popularity</th>   <td> 2.919e+06</td> <td> 6.27e+04</td> <td>   46.558</td> <td> 0.000</td> <td>  2.8e+06</td> <td> 3.04e+06</td>\n",
       "</tr>\n",
       "<tr>\n",
       "  <th>vote_average</th> <td>-3.533e+06</td> <td> 1.61e+05</td> <td>  -21.933</td> <td> 0.000</td> <td>-3.85e+06</td> <td>-3.22e+06</td>\n",
       "</tr>\n",
       "</table>\n",
       "<table class=\"simpletable\">\n",
       "<tr>\n",
       "  <th>Omnibus:</th>       <td>15049.622</td> <th>  Durbin-Watson:     </th>  <td>   2.003</td>  \n",
       "</tr>\n",
       "<tr>\n",
       "  <th>Prob(Omnibus):</th>  <td> 0.000</td>   <th>  Jarque-Bera (JB):  </th> <td>1464574.407</td>\n",
       "</tr>\n",
       "<tr>\n",
       "  <th>Skew:</th>           <td> 4.059</td>   <th>  Prob(JB):          </th>  <td>    0.00</td>  \n",
       "</tr>\n",
       "<tr>\n",
       "  <th>Kurtosis:</th>       <td>48.524</td>   <th>  Cond. No.          </th>  <td>9.59e+06</td>  \n",
       "</tr>\n",
       "</table><br/><br/>Notes:<br/>[1] R² is computed without centering (uncentered) since the model does not contain a constant.<br/>[2] Standard Errors assume that the covariance matrix of the errors is correctly specified.<br/>[3] The condition number is large, 9.59e+06. This might indicate that there are<br/>strong multicollinearity or other numerical problems."
      ],
      "text/plain": [
       "<class 'statsmodels.iolib.summary.Summary'>\n",
       "\"\"\"\n",
       "                                 OLS Regression Results                                \n",
       "=======================================================================================\n",
       "Dep. Variable:                      y   R-squared (uncentered):                   0.657\n",
       "Model:                            OLS   Adj. R-squared (uncentered):              0.657\n",
       "Method:                 Least Squares   F-statistic:                          1.049e+04\n",
       "Date:                Mon, 24 Oct 2022   Prob (F-statistic):                        0.00\n",
       "Time:                        19:40:25   Log-Likelihood:                     -3.2598e+05\n",
       "No. Observations:               16438   AIC:                                  6.520e+05\n",
       "Df Residuals:                   16435   BIC:                                  6.520e+05\n",
       "Df Model:                           3                                                  \n",
       "Covariance Type:            nonrobust                                                  \n",
       "================================================================================\n",
       "                   coef    std err          t      P>|t|      [0.025      0.975]\n",
       "--------------------------------------------------------------------------------\n",
       "budget           2.6256      0.022    120.017      0.000       2.583       2.668\n",
       "popularity    2.919e+06   6.27e+04     46.558      0.000     2.8e+06    3.04e+06\n",
       "vote_average -3.533e+06   1.61e+05    -21.933      0.000   -3.85e+06   -3.22e+06\n",
       "==============================================================================\n",
       "Omnibus:                    15049.622   Durbin-Watson:                   2.003\n",
       "Prob(Omnibus):                  0.000   Jarque-Bera (JB):          1464574.407\n",
       "Skew:                           4.059   Prob(JB):                         0.00\n",
       "Kurtosis:                      48.524   Cond. No.                     9.59e+06\n",
       "==============================================================================\n",
       "\n",
       "Notes:\n",
       "[1] R² is computed without centering (uncentered) since the model does not contain a constant.\n",
       "[2] Standard Errors assume that the covariance matrix of the errors is correctly specified.\n",
       "[3] The condition number is large, 9.59e+06. This might indicate that there are\n",
       "strong multicollinearity or other numerical problems.\n",
       "\"\"\""
      ]
     },
     "execution_count": 26,
     "metadata": {},
     "output_type": "execute_result"
    }
   ],
   "source": [
    "model2.fit().summary()"
   ]
  },
  {
   "cell_type": "code",
   "execution_count": 28,
   "id": "497e06e3",
   "metadata": {},
   "outputs": [],
   "source": [
    "y = df[[\"budget\", \"popularity\"]]\n",
    "X_train, X_test, y_train, y_test = train_test_split(X, y, random_state=42)"
   ]
  },
  {
   "cell_type": "code",
   "execution_count": 29,
   "id": "940899f5",
   "metadata": {},
   "outputs": [],
   "source": [
    "model = LinearRegression()\n",
    "model.fit(X_train, y_train)\n",
    "train_score = model.score(X_train, y_train)\n",
    "test_score = model.score(X_test, y_test)"
   ]
  },
  {
   "cell_type": "code",
   "execution_count": 30,
   "id": "493f0207",
   "metadata": {},
   "outputs": [
    {
     "data": {
      "text/plain": [
       "0.39198741199344805"
      ]
     },
     "execution_count": 30,
     "metadata": {},
     "output_type": "execute_result"
    }
   ],
   "source": [
    "train_score"
   ]
  },
  {
   "cell_type": "code",
   "execution_count": 31,
   "id": "7b6ba5fb",
   "metadata": {},
   "outputs": [
    {
     "data": {
      "text/plain": [
       "0.37558436828272385"
      ]
     },
     "execution_count": 31,
     "metadata": {},
     "output_type": "execute_result"
    }
   ],
   "source": [
    "test_score"
   ]
  },
  {
   "cell_type": "code",
   "execution_count": 32,
   "id": "38158a79",
   "metadata": {},
   "outputs": [],
   "source": [
    "model2 = OLS(X_train, y_train)"
   ]
  },
  {
   "cell_type": "code",
   "execution_count": 33,
   "id": "4536e59f",
   "metadata": {},
   "outputs": [
    {
     "data": {
      "text/html": [
       "<table class=\"simpletable\">\n",
       "<caption>OLS Regression Results</caption>\n",
       "<tr>\n",
       "  <th>Dep. Variable:</th>            <td>y</td>        <th>  R-squared (uncentered):</th>       <td>   0.647</td>  \n",
       "</tr>\n",
       "<tr>\n",
       "  <th>Model:</th>                   <td>OLS</td>       <th>  Adj. R-squared (uncentered):</th>  <td>   0.647</td>  \n",
       "</tr>\n",
       "<tr>\n",
       "  <th>Method:</th>             <td>Least Squares</td>  <th>  F-statistic:       </th>           <td>1.506e+04</td> \n",
       "</tr>\n",
       "<tr>\n",
       "  <th>Date:</th>             <td>Mon, 24 Oct 2022</td> <th>  Prob (F-statistic):</th>            <td>  0.00</td>   \n",
       "</tr>\n",
       "<tr>\n",
       "  <th>Time:</th>                 <td>19:41:56</td>     <th>  Log-Likelihood:    </th>          <td>-3.2622e+05</td>\n",
       "</tr>\n",
       "<tr>\n",
       "  <th>No. Observations:</th>      <td> 16438</td>      <th>  AIC:               </th>           <td>6.524e+05</td> \n",
       "</tr>\n",
       "<tr>\n",
       "  <th>Df Residuals:</th>          <td> 16436</td>      <th>  BIC:               </th>           <td>6.525e+05</td> \n",
       "</tr>\n",
       "<tr>\n",
       "  <th>Df Model:</th>              <td>     2</td>      <th>                     </th>               <td> </td>     \n",
       "</tr>\n",
       "<tr>\n",
       "  <th>Covariance Type:</th>      <td>nonrobust</td>    <th>                     </th>               <td> </td>     \n",
       "</tr>\n",
       "</table>\n",
       "<table class=\"simpletable\">\n",
       "<tr>\n",
       "       <td></td>         <th>coef</th>     <th>std err</th>      <th>t</th>      <th>P>|t|</th>  <th>[0.025</th>    <th>0.975]</th>  \n",
       "</tr>\n",
       "<tr>\n",
       "  <th>budget</th>     <td>    2.4434</td> <td>    0.021</td> <td>  119.003</td> <td> 0.000</td> <td>    2.403</td> <td>    2.484</td>\n",
       "</tr>\n",
       "<tr>\n",
       "  <th>popularity</th> <td> 2.459e+06</td> <td> 5.99e+04</td> <td>   41.024</td> <td> 0.000</td> <td> 2.34e+06</td> <td> 2.58e+06</td>\n",
       "</tr>\n",
       "</table>\n",
       "<table class=\"simpletable\">\n",
       "<tr>\n",
       "  <th>Omnibus:</th>       <td>16825.319</td> <th>  Durbin-Watson:     </th>  <td>   1.948</td>  \n",
       "</tr>\n",
       "<tr>\n",
       "  <th>Prob(Omnibus):</th>  <td> 0.000</td>   <th>  Jarque-Bera (JB):  </th> <td>2065131.748</td>\n",
       "</tr>\n",
       "<tr>\n",
       "  <th>Skew:</th>           <td> 4.842</td>   <th>  Prob(JB):          </th>  <td>    0.00</td>  \n",
       "</tr>\n",
       "<tr>\n",
       "  <th>Kurtosis:</th>       <td>57.050</td>   <th>  Cond. No.          </th>  <td>3.48e+06</td>  \n",
       "</tr>\n",
       "</table><br/><br/>Notes:<br/>[1] R² is computed without centering (uncentered) since the model does not contain a constant.<br/>[2] Standard Errors assume that the covariance matrix of the errors is correctly specified.<br/>[3] The condition number is large, 3.48e+06. This might indicate that there are<br/>strong multicollinearity or other numerical problems."
      ],
      "text/plain": [
       "<class 'statsmodels.iolib.summary.Summary'>\n",
       "\"\"\"\n",
       "                                 OLS Regression Results                                \n",
       "=======================================================================================\n",
       "Dep. Variable:                      y   R-squared (uncentered):                   0.647\n",
       "Model:                            OLS   Adj. R-squared (uncentered):              0.647\n",
       "Method:                 Least Squares   F-statistic:                          1.506e+04\n",
       "Date:                Mon, 24 Oct 2022   Prob (F-statistic):                        0.00\n",
       "Time:                        19:41:56   Log-Likelihood:                     -3.2622e+05\n",
       "No. Observations:               16438   AIC:                                  6.524e+05\n",
       "Df Residuals:                   16436   BIC:                                  6.525e+05\n",
       "Df Model:                           2                                                  \n",
       "Covariance Type:            nonrobust                                                  \n",
       "==============================================================================\n",
       "                 coef    std err          t      P>|t|      [0.025      0.975]\n",
       "------------------------------------------------------------------------------\n",
       "budget         2.4434      0.021    119.003      0.000       2.403       2.484\n",
       "popularity  2.459e+06   5.99e+04     41.024      0.000    2.34e+06    2.58e+06\n",
       "==============================================================================\n",
       "Omnibus:                    16825.319   Durbin-Watson:                   1.948\n",
       "Prob(Omnibus):                  0.000   Jarque-Bera (JB):          2065131.748\n",
       "Skew:                           4.842   Prob(JB):                         0.00\n",
       "Kurtosis:                      57.050   Cond. No.                     3.48e+06\n",
       "==============================================================================\n",
       "\n",
       "Notes:\n",
       "[1] R² is computed without centering (uncentered) since the model does not contain a constant.\n",
       "[2] Standard Errors assume that the covariance matrix of the errors is correctly specified.\n",
       "[3] The condition number is large, 3.48e+06. This might indicate that there are\n",
       "strong multicollinearity or other numerical problems.\n",
       "\"\"\""
      ]
     },
     "execution_count": 33,
     "metadata": {},
     "output_type": "execute_result"
    }
   ],
   "source": [
    "model2.fit().summary()"
   ]
  },
  {
   "cell_type": "code",
   "execution_count": 34,
   "id": "f6d1423f",
   "metadata": {},
   "outputs": [],
   "source": [
    "y = df[[\"budget\"]]\n",
    "X_train, X_test, y_train, y_test = train_test_split(X, y, random_state=42)"
   ]
  },
  {
   "cell_type": "code",
   "execution_count": 35,
   "id": "94ee5d56",
   "metadata": {},
   "outputs": [],
   "source": [
    "model = LinearRegression()\n",
    "model.fit(X_train, y_train)\n",
    "train_score = model.score(X_train, y_train)\n",
    "test_score = model.score(X_test, y_test)"
   ]
  },
  {
   "cell_type": "code",
   "execution_count": 36,
   "id": "fa56b342",
   "metadata": {},
   "outputs": [
    {
     "data": {
      "text/plain": [
       "0.5459582895976168"
      ]
     },
     "execution_count": 36,
     "metadata": {},
     "output_type": "execute_result"
    }
   ],
   "source": [
    "train_score"
   ]
  },
  {
   "cell_type": "code",
   "execution_count": 37,
   "id": "e6430afd",
   "metadata": {},
   "outputs": [
    {
     "data": {
      "text/plain": [
       "0.5634031299703515"
      ]
     },
     "execution_count": 37,
     "metadata": {},
     "output_type": "execute_result"
    }
   ],
   "source": [
    "test_score"
   ]
  },
  {
   "cell_type": "code",
   "execution_count": null,
   "id": "45c6ba2c",
   "metadata": {},
   "outputs": [],
   "source": []
  },
  {
   "cell_type": "code",
   "execution_count": null,
   "id": "a72668d4",
   "metadata": {},
   "outputs": [],
   "source": []
  },
  {
   "cell_type": "code",
   "execution_count": null,
   "id": "61154e44",
   "metadata": {},
   "outputs": [],
   "source": []
  }
 ],
 "metadata": {
  "kernelspec": {
   "display_name": "mlenvshady",
   "language": "python",
   "name": "mlenvshady"
  },
  "language_info": {
   "codemirror_mode": {
    "name": "ipython",
    "version": 3
   },
   "file_extension": ".py",
   "mimetype": "text/x-python",
   "name": "python",
   "nbconvert_exporter": "python",
   "pygments_lexer": "ipython3",
   "version": "3.7.13"
  }
 },
 "nbformat": 4,
 "nbformat_minor": 5
}
