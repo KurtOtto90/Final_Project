{
 "cells": [
  {
   "cell_type": "code",
   "execution_count": 1,
   "id": "3ee94252",
   "metadata": {},
   "outputs": [],
   "source": [
    "# Import the dependencies.\n",
    "import pandas as pd\n",
    "import matplotlib.pyplot as plt\n",
    "import numpy as np"
   ]
  },
  {
   "cell_type": "code",
   "execution_count": 2,
   "id": "6aeb643a",
   "metadata": {},
   "outputs": [],
   "source": [
    "# Import the time library and the datetime module from the datetime library \n",
    "import time\n",
    "from datetime import datetime"
   ]
  },
  {
   "cell_type": "code",
   "execution_count": 3,
   "id": "ba9db1d8",
   "metadata": {},
   "outputs": [],
   "source": [
    "# Import the requests library.\n",
    "import requests\n"
   ]
  },
  {
   "cell_type": "code",
   "execution_count": 18,
   "id": "b0da6365",
   "metadata": {},
   "outputs": [],
   "source": [
    "url = \"https://api.themoviedb.org/3/movie/8844?api_key=998c41d29a7f060f6f8bbd2e1910bac4\""
   ]
  },
  {
   "cell_type": "code",
   "execution_count": 19,
   "id": "37faf726",
   "metadata": {},
   "outputs": [
    {
     "data": {
      "text/plain": [
       "{'adult': False,\n",
       " 'backdrop_path': '/dH5BdTa6iSmVJahteY0xvthBsaO.jpg',\n",
       " 'belongs_to_collection': {'id': 495527,\n",
       "  'name': 'Jumanji Collection',\n",
       "  'poster_path': '/6sjMsBcIuqU44GpG5tL33KUFOQR.jpg',\n",
       "  'backdrop_path': '/9PCsWrw1GvrZkrd1GCxRqscgZu0.jpg'},\n",
       " 'budget': 65000000,\n",
       " 'genres': [{'id': 12, 'name': 'Adventure'},\n",
       "  {'id': 14, 'name': 'Fantasy'},\n",
       "  {'id': 10751, 'name': 'Family'}],\n",
       " 'homepage': 'http://www.sonypictures.com/movies/jumanji/',\n",
       " 'id': 8844,\n",
       " 'imdb_id': 'tt0113497',\n",
       " 'original_language': 'en',\n",
       " 'original_title': 'Jumanji',\n",
       " 'overview': \"When siblings Judy and Peter discover an enchanted board game that opens the door to a magical world, they unwittingly invite Alan -- an adult who's been trapped inside the game for 26 years -- into their living room. Alan's only hope for freedom is to finish the game, which proves risky as all three find themselves running from giant rhinoceroses, evil monkeys and other terrifying creatures.\",\n",
       " 'popularity': 19.219,\n",
       " 'poster_path': '/6aGn2X51bahFoOI8wE1h2VGTgcH.jpg',\n",
       " 'production_companies': [{'id': 559,\n",
       "   'logo_path': '/jqWioYeGSyTLuHth0141bTGvu6H.png',\n",
       "   'name': 'TriStar Pictures',\n",
       "   'origin_country': 'US'},\n",
       "  {'id': 2550,\n",
       "   'logo_path': None,\n",
       "   'name': 'Teitler Film',\n",
       "   'origin_country': 'US'},\n",
       "  {'id': 10201,\n",
       "   'logo_path': None,\n",
       "   'name': 'Interscope Communications',\n",
       "   'origin_country': ''}],\n",
       " 'production_countries': [{'iso_3166_1': 'US',\n",
       "   'name': 'United States of America'}],\n",
       " 'release_date': '1995-12-15',\n",
       " 'revenue': 262797249,\n",
       " 'runtime': 104,\n",
       " 'spoken_languages': [{'english_name': 'English',\n",
       "   'iso_639_1': 'en',\n",
       "   'name': 'English'},\n",
       "  {'english_name': 'French', 'iso_639_1': 'fr', 'name': 'Français'}],\n",
       " 'status': 'Released',\n",
       " 'tagline': 'Roll the dice and unleash the excitement!',\n",
       " 'title': 'Jumanji',\n",
       " 'video': False,\n",
       " 'vote_average': 7.234,\n",
       " 'vote_count': 9239}"
      ]
     },
     "execution_count": 19,
     "metadata": {},
     "output_type": "execute_result"
    }
   ],
   "source": [
    "movie = requests.get(url).json()\n",
    "movie"
   ]
  },
  {
   "cell_type": "code",
   "execution_count": null,
   "id": "f4f763f3",
   "metadata": {},
   "outputs": [],
   "source": []
  }
 ],
 "metadata": {
  "kernelspec": {
   "display_name": "PythonData",
   "language": "python",
   "name": "pythondata"
  },
  "language_info": {
   "codemirror_mode": {
    "name": "ipython",
    "version": 3
   },
   "file_extension": ".py",
   "mimetype": "text/x-python",
   "name": "python",
   "nbconvert_exporter": "python",
   "pygments_lexer": "ipython3",
   "version": "3.7.13"
  }
 },
 "nbformat": 4,
 "nbformat_minor": 5
}
