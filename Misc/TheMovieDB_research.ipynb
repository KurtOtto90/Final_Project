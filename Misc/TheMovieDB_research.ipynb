{
 "cells": [
  {
   "cell_type": "code",
   "execution_count": 1,
   "id": "3ee94252",
   "metadata": {},
   "outputs": [],
   "source": [
    "# Import the dependencies.\n",
    "import pandas as pd\n",
    "import matplotlib.pyplot as plt\n",
    "import numpy as np"
   ]
  },
  {
   "cell_type": "code",
   "execution_count": 2,
   "id": "6aeb643a",
   "metadata": {},
   "outputs": [],
   "source": [
    "# Import the time library and the datetime module from the datetime library \n",
    "import time\n",
    "from datetime import datetime"
   ]
  },
  {
   "cell_type": "code",
   "execution_count": 3,
   "id": "ba9db1d8",
   "metadata": {},
   "outputs": [],
   "source": [
    "# Import the requests library.\n",
    "import requests\n"
   ]
  },
  {
   "cell_type": "code",
   "execution_count": 6,
   "id": "b0da6365",
   "metadata": {},
   "outputs": [],
   "source": [
    "url = \"https://api.themoviedb.org/3/movie/864?api_key=998c41d29a7f060f6f8bbd2e1910bac4\""
   ]
  },
  {
   "cell_type": "code",
   "execution_count": 8,
   "id": "37faf726",
   "metadata": {},
   "outputs": [
    {
     "data": {
      "text/plain": [
       "{'adult': False,\n",
       " 'backdrop_path': '/2Y0lMMmfbpMbVMgc86oi8o5cFQX.jpg',\n",
       " 'belongs_to_collection': None,\n",
       " 'budget': 14000000,\n",
       " 'genres': [{'id': 35, 'name': 'Comedy'},\n",
       "  {'id': 12, 'name': 'Adventure'},\n",
       "  {'id': 18, 'name': 'Drama'}],\n",
       " 'homepage': '',\n",
       " 'id': 864,\n",
       " 'imdb_id': 'tt0106611',\n",
       " 'original_language': 'en',\n",
       " 'original_title': 'Cool Runnings',\n",
       " 'overview': 'When a Jamaican sprinter is disqualified from the Olympic Games, he enlists the help of a dishonored coach to start the first Jamaican bobsled team.',\n",
       " 'popularity': 17.013,\n",
       " 'poster_path': '/6fXuGEb7EqGmAeUodxm7l5ELPZ.jpg',\n",
       " 'production_companies': [{'id': 2,\n",
       "   'logo_path': '/wdrCwmRnLFJhEoH8GSfymY85KHT.png',\n",
       "   'name': 'Walt Disney Pictures',\n",
       "   'origin_country': 'US'}],\n",
       " 'production_countries': [{'iso_3166_1': 'US',\n",
       "   'name': 'United States of America'}],\n",
       " 'release_date': '1993-10-01',\n",
       " 'revenue': 154856263,\n",
       " 'runtime': 98,\n",
       " 'spoken_languages': [{'english_name': 'English',\n",
       "   'iso_639_1': 'en',\n",
       "   'name': 'English'},\n",
       "  {'english_name': 'French', 'iso_639_1': 'fr', 'name': 'Français'},\n",
       "  {'english_name': 'German', 'iso_639_1': 'de', 'name': 'Deutsch'},\n",
       "  {'english_name': 'Russian', 'iso_639_1': 'ru', 'name': 'Pусский'}],\n",
       " 'status': 'Released',\n",
       " 'tagline': 'One dream. Four Jamaicans. Twenty below zero.',\n",
       " 'title': 'Cool Runnings',\n",
       " 'video': False,\n",
       " 'vote_average': 6.993,\n",
       " 'vote_count': 1667}"
      ]
     },
     "execution_count": 8,
     "metadata": {},
     "output_type": "execute_result"
    }
   ],
   "source": [
    "movie = requests.get(url).json()\n",
    "movie"
   ]
  },
  {
   "cell_type": "code",
   "execution_count": null,
   "id": "f4f763f3",
   "metadata": {},
   "outputs": [],
   "source": []
  }
 ],
 "metadata": {
  "kernelspec": {
   "display_name": "PythonData",
   "language": "python",
   "name": "pythondata"
  },
  "language_info": {
   "codemirror_mode": {
    "name": "ipython",
    "version": 3
   },
   "file_extension": ".py",
   "mimetype": "text/x-python",
   "name": "python",
   "nbconvert_exporter": "python",
   "pygments_lexer": "ipython3",
   "version": "3.7.13"
  }
 },
 "nbformat": 4,
 "nbformat_minor": 5
}
